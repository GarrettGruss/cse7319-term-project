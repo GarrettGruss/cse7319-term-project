{
 "cells": [
  {
   "cell_type": "markdown",
   "id": "ffdcde6b",
   "metadata": {},
   "source": [
    "Based on the following video: [How-to Use The Reddit API in Python by James Briggs](https://www.youtube.com/watch?v=FdjVoOf9HN4)\n",
    "1. Create a reddit application [here](https://www.reddit.com/prefs/apps) to get a client_id and client_secret\n"
   ]
  },
  {
   "cell_type": "code",
   "execution_count": null,
   "id": "00af0e92",
   "metadata": {},
   "outputs": [],
   "source": [
    "import requests\n",
    "import dotenv\n",
    "import os"
   ]
  },
  {
   "cell_type": "code",
   "execution_count": null,
   "id": "e1ed4f79",
   "metadata": {},
   "outputs": [],
   "source": [
    "## Authenticate with the reddit API\n",
    "\n",
    "dotenv.load_dotenv()\n",
    "REDDIT_CLIENT_ID = os.getenv(\"REDDIT_CLIENT_ID\")  # Fixed: was getting CLIENT_SECRET\n",
    "REDDIT_CLIENT_SECRET = os.getenv(\"REDDIT_CLIENT_SECRET\")\n",
    "REDDIT_USERNAME = os.getenv(\"REDDIT_USERNAME\")\n",
    "REDDIT_PASSWORD = os.getenv(\"REDDIT_PASSWORD\")\n",
    "\n",
    "res = requests.post('https://www.reddit.com/api/v1/access_token',\n",
    "    auth=requests.auth.HTTPBasicAuth(REDDIT_CLIENT_ID, REDDIT_CLIENT_SECRET),\n",
    "    data={\n",
    "        'grant_type': 'password',\n",
    "        'username': REDDIT_USERNAME,\n",
    "        'password': REDDIT_PASSWORD\n",
    "    },\n",
    "    headers={'User-Agent': 'MyAPI/0.0.1'}\n",
    ")\n",
    "\n",
    "TOKEN = res.json()['access_token']\n",
    "\n",
    "headers = {\n",
    "    **{'User-Agent': 'MyAPI/0.0.1'}, \n",
    "    **{'Authorization': f'bearer {TOKEN}'}\n",
    "}"
   ]
  },
  {
   "cell_type": "code",
   "execution_count": null,
   "id": "dade1d27",
   "metadata": {},
   "outputs": [
    {
     "name": "stdout",
     "output_type": "stream",
     "text": [
      "Username: u_Verusauxilium\n"
     ]
    }
   ],
   "source": [
    "# Access user information\n",
    "\n",
    "res = requests.get('https://oauth.reddit.com/api/v1/me', headers=headers)\n",
    "\n",
    "print(f'username: {res.json()['subreddit']['display_name']}')"
   ]
  }
 ],
 "metadata": {
  "kernelspec": {
   "display_name": "cse7319-term-project (3.12.3)",
   "language": "python",
   "name": "python3"
  },
  "language_info": {
   "codemirror_mode": {
    "name": "ipython",
    "version": 3
   },
   "file_extension": ".py",
   "mimetype": "text/x-python",
   "name": "python",
   "nbconvert_exporter": "python",
   "pygments_lexer": "ipython3",
   "version": "3.12.3"
  }
 },
 "nbformat": 4,
 "nbformat_minor": 5
}
